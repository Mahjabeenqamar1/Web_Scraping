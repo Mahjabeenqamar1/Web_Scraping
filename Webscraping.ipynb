{
  "nbformat": 4,
  "nbformat_minor": 0,
  "metadata": {
    "colab": {
      "name": "Webscraping.ipynb",
      "provenance": [],
      "collapsed_sections": []
    },
    "kernelspec": {
      "name": "python3",
      "display_name": "Python 3"
    },
    "language_info": {
      "name": "python"
    }
  },
  "cells": [
    {
      "cell_type": "code",
      "metadata": {
        "id": "YNCrQz0W0hCW"
      },
      "source": [
        "!pip install selenium"
      ],
      "execution_count": null,
      "outputs": []
    },
    {
      "cell_type": "code",
      "metadata": {
        "id": "Lg7V2vC40uS_"
      },
      "source": [
        "# import the model\n",
        "from selenium import webdriver\n",
        " # time duration in website\n",
        "from time import sleep    "
      ],
      "execution_count": null,
      "outputs": []
    },
    {
      "cell_type": "code",
      "metadata": {
        "id": "hWxdoAyF0uVr"
      },
      "source": [
        "# Get the local file in download chrome Driver path\n",
        "driver = webdriver.Chrome(executable_path='/home/instructorcr2/Downloads/chromedriver')\n"
      ],
      "execution_count": null,
      "outputs": []
    },
    {
      "cell_type": "code",
      "metadata": {
        "id": "XDMhuClm0ucE"
      },
      "source": [
        "# get the website URL\n",
        "driver.get()"
      ],
      "execution_count": null,
      "outputs": []
    },
    {
      "cell_type": "code",
      "metadata": {
        "id": "XhADgGeI76_X"
      },
      "source": [
        "# get the element path\n",
        "elem = driver.find_elements_by_css_selector('')"
      ],
      "execution_count": null,
      "outputs": []
    },
    {
      "cell_type": "code",
      "metadata": {
        "id": "5rIxWfi077Cc"
      },
      "source": [
        "elem"
      ],
      "execution_count": null,
      "outputs": []
    },
    {
      "cell_type": "code",
      "metadata": {
        "id": "Z1wnzPGD77GK"
      },
      "source": [
        "sleep(10)"
      ],
      "execution_count": null,
      "outputs": []
    },
    {
      "cell_type": "code",
      "metadata": {
        "id": "CBue-T2O77I1"
      },
      "source": [
        "# close the windows in chrome\n",
        "driver.close() "
      ],
      "execution_count": null,
      "outputs": []
    }
  ]
}